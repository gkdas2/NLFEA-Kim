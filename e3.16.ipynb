{
 "cells": [
  {
   "cell_type": "code",
   "execution_count": 5,
   "metadata": {},
   "outputs": [],
   "source": [
    "import numpy as np\n",
    "from nlfem import nlfea\n"
   ]
  },
  {
   "cell_type": "code",
   "execution_count": 6,
   "metadata": {},
   "outputs": [],
   "source": [
    "# Hyperelastic tesnsion example\n"
   ]
  },
  {
   "cell_type": "code",
   "execution_count": 7,
   "metadata": {},
   "outputs": [
    {
     "name": "stdout",
     "output_type": "stream",
     "text": [
      "Time: 0.1, Time Step: 0.1, Iter: 2, Residual: 4.547473508864641e-13\n",
      "Time: 0.2, Time Step: 0.1, Iter: 2, Residual: 6.821210263296962e-13\n",
      "Time: 0.3, Time Step: 0.1, Iter: 2, Residual: 7.591198308465199e-13\n",
      "Time: 0.4, Time Step: 0.1, Iter: 2, Residual: 9.094947017729282e-13\n",
      "Time: 0.5, Time Step: 0.1, Iter: 2, Residual: 9.094947017729282e-13\n",
      "Time: 0.6, Time Step: 0.1, Iter: 2, Residual: 1.8189894035458565e-12\n",
      "Time: 0.7, Time Step: 0.1, Iter: 2, Residual: 3.637978807091713e-12\n",
      "Time: 0.8, Time Step: 0.1, Iter: 2, Residual: 3.637978807091713e-12\n",
      "Time: 0.9, Time Step: 0.1, Iter: 2, Residual: 3.637978807091713e-12\n",
      "Time: 1.0, Time Step: 0.1, Iter: 2, Residual: 3.637978807091713e-12\n",
      " *** Successful end of program *** \n"
     ]
    }
   ],
   "source": [
    "XYZ = np.array([[0, 0, 0],\n",
    "                [1, 0, 0],\n",
    "                [1, 1, 0],\n",
    "                [0, 1, 0],\n",
    "                [0, 0, 1],\n",
    "                [1, 0, 1],\n",
    "                [1, 1, 1],\n",
    "                [0, 1, 1]])\n",
    "\n",
    "# Element connectivity\n",
    "LE = np.array([[1,  2,  3,  4,  5,  6,  7,  8]])\n",
    "\n",
    "# External forces [Node, DOF, Value]\n",
    "EXTFORCE = np.array([[5, 3, 10e3],\n",
    "                     [6, 3, 10e3],\n",
    "                     [7, 3, 10e3],\n",
    "                     [8, 3, 10e3]])\n",
    "\n",
    "# Prescribed displacement [Node, DOF, Value]\n",
    "SDISPT = np.array([[1, 1, 0],\n",
    "                   [1, 2, 0],\n",
    "                   [1, 3, 0],\n",
    "                   [2, 2, 0],\n",
    "                   [2, 3, 0],\n",
    "                   [3, 3, 0],\n",
    "                   [4, 1, 0],\n",
    "                   [4, 3, 0]])\n",
    "\n",
    "# Material Properties\n",
    "# MID = 0(Linear elastic) PROP: [lambda, mu]\n",
    "MID = 0\n",
    "E = 2e11\n",
    "NU = 0.3\n",
    "LAMBDA = E*NU/((1 + NU) * (1 - 2*NU))\n",
    "MU = E/(2 * (1 + NU))\n",
    "PROP = np.array([1.1538e6, 7.6923e5])\n",
    "\n",
    "# Load increments [Start, End, Increment, InitialFactor, FinalFactor]\n",
    "TIMS = np.array([[0, 0.5, 0.1, 0, 0.5],\n",
    "                 [0.5, 1.0, 0.1, 0.5, 1]])\n",
    "\n",
    "# Set program parameter\n",
    "ITRA = 30\n",
    "ATOL = 1e5\n",
    "NTOL = 6\n",
    "TOL = 1E-6\n",
    "\n",
    "# Call main function\n",
    "NOUT = \"output.out\"\n",
    "out = nlfea(ITRA, TOL, ATOL, NTOL, TIMS, NOUT,\n",
    "            MID, PROP, EXTFORCE, SDISPT, XYZ, LE)\n",
    "# -------------------------------------------------------------------------\n"
   ]
  },
  {
   "cell_type": "code",
   "execution_count": null,
   "metadata": {},
   "outputs": [],
   "source": []
  }
 ],
 "metadata": {
  "kernelspec": {
   "display_name": "Python 3",
   "language": "python",
   "name": "python3"
  },
  "language_info": {
   "codemirror_mode": {
    "name": "ipython",
    "version": 3
   },
   "file_extension": ".py",
   "mimetype": "text/x-python",
   "name": "python",
   "nbconvert_exporter": "python",
   "pygments_lexer": "ipython3",
   "version": "3.8.10"
  },
  "orig_nbformat": 4,
  "vscode": {
   "interpreter": {
    "hash": "e7370f93d1d0cde622a1f8e1c04877d8463912d04d973331ad4851f04de6915a"
   }
  }
 },
 "nbformat": 4,
 "nbformat_minor": 2
}
