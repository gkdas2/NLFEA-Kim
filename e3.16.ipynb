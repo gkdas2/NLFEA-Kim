{
 "cells": [
  {
   "cell_type": "code",
   "execution_count": 1,
   "metadata": {},
   "outputs": [],
   "source": [
    "import numpy as np\n",
    "from nlfem import nlfea\n",
    "\n",
    "# Hyperelastic tension example\n",
    "\n",
    "XYZ = np.array([[0, 0, 0],\n",
    "                [1, 0, 0],\n",
    "                [1, 1, 0],\n",
    "                [0, 1, 0],\n",
    "                [0, 0, 1],\n",
    "                [1, 0, 1],\n",
    "                [1, 1, 1],\n",
    "                [0, 1, 1]])\n",
    "\n",
    "# Element connectivity\n",
    "LE = np.array([[1,  2,  3,  4,  5,  6,  7,  8]])\n",
    "\n",
    "# External forces [Node, DOF, Value]\n",
    "EXTFORCE = np.array([])\n",
    "\n",
    "# Prescribed displacement [Node, DOF, Value]\n",
    "SDISPT = np.array([[1, 1, 0], [4, 1, 0], [5,1,0], [8,1,0],\n",
    "                   [1, 2, 0], [2,2,0], [5, 2, 0], [6, 2, 0],  \n",
    "                   [1, 3, 0], [2,3,0], [3,3,0], [4,3,0],\n",
    "                   [2, 1, 5], [3,1,5], [6,1,5], [7,5,1]\n",
    "                   ])\n",
    "\n",
    "# Material Properties\n",
    "# MID = 0(Linear elastic) PROP: [lambda, mu]\n",
    "MID = -1\n",
    "E = 2e11\n",
    "NU = 0.3\n",
    "LAMBDA = E*NU/((1 + NU) * (1 - 2*NU))\n",
    "MU = E/(2 * (1 + NU))\n",
    "PROP = np.array([80, 20, 1e7])\n",
    "\n",
    "# Load increments [Start, End, Increment, InitialFactor, FinalFactor]\n",
    "TIMS = np.array([[0, 1.0, 0.05, 0.01, 1.0]])\n",
    "\n",
    "# Set program parameter\n",
    "ITRA = 30\n",
    "ATOL = 1e5\n",
    "NTOL = 6\n",
    "TOL = 1E-6\n",
    "\n",
    "# Call main function\n",
    "NOUT = \"output.out\"\n",
    "out = nlfea(ITRA, TOL, ATOL, NTOL, TIMS, NOUT,\n",
    "            MID, PROP, EXTFORCE, SDISPT, XYZ, LE)\n",
    "# -------------------------------------------------------------------------\n"
   ]
  },
  {
   "cell_type": "code",
   "execution_count": null,
   "metadata": {},
   "outputs": [],
   "source": []
  }
 ],
 "metadata": {
  "kernelspec": {
   "display_name": "Python 3",
   "language": "python",
   "name": "python3"
  },
  "language_info": {
   "codemirror_mode": {
    "name": "ipython",
    "version": 3
   },
   "file_extension": ".py",
   "mimetype": "text/x-python",
   "name": "python",
   "nbconvert_exporter": "python",
   "pygments_lexer": "ipython3",
   "version": "3.8.10"
  },
  "orig_nbformat": 4,
  "vscode": {
   "interpreter": {
    "hash": "e7370f93d1d0cde622a1f8e1c04877d8463912d04d973331ad4851f04de6915a"
   }
  }
 },
 "nbformat": 4,
 "nbformat_minor": 2
}
