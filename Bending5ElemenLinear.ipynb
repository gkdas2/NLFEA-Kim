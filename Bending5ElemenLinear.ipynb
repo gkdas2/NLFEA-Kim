{
 "cells": [
  {
   "cell_type": "code",
   "execution_count": 1,
   "metadata": {},
   "outputs": [],
   "source": [
    "import numpy as np\n",
    "from nlfem import nlfea"
   ]
  },
  {
   "cell_type": "code",
   "execution_count": 2,
   "metadata": {},
   "outputs": [],
   "source": [
    "# Bending of five linear elastic elements"
   ]
  },
  {
   "cell_type": "code",
   "execution_count": 3,
   "metadata": {},
   "outputs": [],
   "source": [
    "XYZ = np.array([[0, 0, 0],\n",
    "                [1, 0, 0],\n",
    "                [1, 1, 0],\n",
    "                [0, 1, 0],\n",
    "                [0, 0, 2],\n",
    "                [1, 0, 2],\n",
    "                [1, 1, 2] ,\n",
    "                [0, 1, 2] ,\n",
    "                [0, 0, 4] ,\n",
    "                [1, 0, 4] ,\n",
    "                [1, 1, 4] ,\n",
    "                [0, 1, 4] ,\n",
    "                [0, 0, 6] ,\n",
    "                [1, 0, 6] ,\n",
    "                [1, 1, 6] ,\n",
    "                [0, 1, 6] ,\n",
    "                [0, 0, 7],\n",
    "                [1, 0, 7] ,\n",
    "                [1, 1, 8] ,\n",
    "                [0, 1, 8] ,\n",
    "                [0, 0, 10],\n",
    "                [1, 0, 10],\n",
    "                [1, 1, 10],\n",
    "                [0, 1, 10]])"
   ]
  },
  {
   "cell_type": "code",
   "execution_count": 4,
   "metadata": {},
   "outputs": [],
   "source": [
    "# Element connectivity\n",
    "LE=np.array([ [1,  2,  3,  4,  5,  6,  7,  8],\n",
    "     [5,  6,  7,  8,  9, 10, 11, 12],\n",
    "     [9, 10, 11, 12, 13, 14, 15, 16],\n",
    "    [13, 14, 15, 16, 17, 18, 19, 20],\n",
    "    [17, 18, 19, 20, 21, 22, 23, 24]])"
   ]
  },
  {
   "cell_type": "code",
   "execution_count": 5,
   "metadata": {},
   "outputs": [],
   "source": [
    "# External forces [Node, DOF, Value]\n",
    "EXTFORCE = np.array([[21, 2, 1e5],\n",
    "                     [22, 2, 1e5],\n",
    "                     [23, 2, 1e5],\n",
    "                     [24, 2, 1e5]])"
   ]
  },
  {
   "cell_type": "code",
   "execution_count": 6,
   "metadata": {},
   "outputs": [],
   "source": [
    "# Prescribed displacement [Node, DOF, Value]\n",
    "SDISPT = np.array([[1,1,0],\n",
    "                   [1,2,0],\n",
    "                   [1,3,0],\n",
    "                   [2,1,0],\n",
    "                   [2,2,0],\n",
    "                   [2,3,0],\n",
    "                   [3,1,0],\n",
    "                   [3,2,0],\n",
    "                   [3,3,0],\n",
    "                   [4,1,0],\n",
    "                   [4,2,0],\n",
    "                   [4,3,0]])\n"
   ]
  },
  {
   "cell_type": "code",
   "execution_count": 7,
   "metadata": {},
   "outputs": [],
   "source": [
    "# Material Properties\n",
    "# MID = 0(Linear elastic) PROP: [lambda, mu]\n",
    "MID = 0\n",
    "E = 2e11\n",
    "NU = 0.3\n",
    "LAMBDA = E*NU/((1 + NU) * (1 - 2*NU))\n",
    "MU = E/(2 * (1 + NU))\n",
    "PROP = np.array([LAMBDA, MU])\n"
   ]
  },
  {
   "cell_type": "code",
   "execution_count": 8,
   "metadata": {},
   "outputs": [],
   "source": [
    "# Load increments [Start, End, Increment, InitialFactor, FinalFactor]\n",
    "TIMS = np.array([[0, 1, 1, 0, 1]])"
   ]
  },
  {
   "cell_type": "code",
   "execution_count": 9,
   "metadata": {},
   "outputs": [],
   "source": [
    "# Set program parameter\n",
    "ITRA = 30\n",
    "ATOL = 1e5\n",
    "NTOL = 6\n",
    "TOL = 1E-6"
   ]
  },
  {
   "cell_type": "code",
   "execution_count": 10,
   "metadata": {},
   "outputs": [
    {
     "name": "stdout",
     "output_type": "stream",
     "text": [
      "Time: 1, Time Step: 1, Iter: 2, Residual: 1.0892472346313298e-07\n",
      " *** Successful end of program *** \n"
     ]
    }
   ],
   "source": [
    "# Call main function\n",
    "NOUT = \"output.out\"\n",
    "out = nlfea(ITRA, TOL, ATOL, NTOL, TIMS, NOUT, MID, PROP, EXTFORCE, SDISPT, XYZ, LE)"
   ]
  },
  {
   "cell_type": "code",
   "execution_count": null,
   "metadata": {},
   "outputs": [],
   "source": []
  },
  {
   "cell_type": "code",
   "execution_count": null,
   "metadata": {},
   "outputs": [],
   "source": []
  }
 ],
 "metadata": {
  "kernelspec": {
   "display_name": "Python 3",
   "language": "python",
   "name": "python3"
  },
  "language_info": {
   "codemirror_mode": {
    "name": "ipython",
    "version": 3
   },
   "file_extension": ".py",
   "mimetype": "text/x-python",
   "name": "python",
   "nbconvert_exporter": "python",
   "pygments_lexer": "ipython3",
   "version": "3.8.10"
  },
  "orig_nbformat": 4,
  "vscode": {
   "interpreter": {
    "hash": "e7370f93d1d0cde622a1f8e1c04877d8463912d04d973331ad4851f04de6915a"
   }
  }
 },
 "nbformat": 4,
 "nbformat_minor": 2
}
