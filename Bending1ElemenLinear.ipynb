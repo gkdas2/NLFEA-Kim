{
 "cells": [
  {
   "cell_type": "code",
   "execution_count": 41,
   "metadata": {},
   "outputs": [],
   "source": [
    "import numpy as np\n",
    "from nlfem import nlfea"
   ]
  },
  {
   "cell_type": "code",
   "execution_count": 42,
   "metadata": {},
   "outputs": [],
   "source": [
    "# Bending of 1 linear elastic elements"
   ]
  },
  {
   "cell_type": "code",
   "execution_count": 43,
   "metadata": {},
   "outputs": [],
   "source": [
    "XYZ = np.array([[0, 0, 0],\n",
    "                [1, 0, 0],\n",
    "                [1, 1, 0],\n",
    "                [0, 1, 0],\n",
    "                [0, 0, 1],\n",
    "                [1, 0, 1],\n",
    "                [1, 1, 1] ,\n",
    "                [0, 1, 1]])"
   ]
  },
  {
   "cell_type": "code",
   "execution_count": 44,
   "metadata": {},
   "outputs": [],
   "source": [
    "# Element connectivity\n",
    "LE=np.array([ [1,  2,  3,  4,  5,  6,  7,  8]])"
   ]
  },
  {
   "cell_type": "code",
   "execution_count": 45,
   "metadata": {},
   "outputs": [],
   "source": [
    "# External forces [Node, DOF, Value]\n",
    "EXTFORCE = np.array([[5, 3, 10e3],\n",
    "                     [6, 3, 10e3],\n",
    "                     [7, 3, 10e3],\n",
    "                     [8, 3, 10e3]])"
   ]
  },
  {
   "cell_type": "code",
   "execution_count": 46,
   "metadata": {},
   "outputs": [],
   "source": [
    "# Prescribed displacement [Node, DOF, Value]\n",
    "SDISPT = np.array([[1,1,0],\n",
    "                   [1,2,0],\n",
    "                   [1,3,0],\n",
    "                   [2,2,0],\n",
    "                   [2,3,0],\n",
    "                   [3,3,0],\n",
    "                   [4,1,0],\n",
    "                   [4,3,0]])\n"
   ]
  },
  {
   "cell_type": "code",
   "execution_count": 47,
   "metadata": {},
   "outputs": [],
   "source": [
    "# Material Properties\n",
    "# MID = 0(Linear elastic) PROP: [lambda, mu]\n",
    "MID = 0\n",
    "E = 2e11\n",
    "NU = 0.3\n",
    "LAMBDA = E*NU/((1 + NU) * (1 - 2*NU))\n",
    "MU = E/(2 * (1 + NU))\n",
    "PROP = np.array([1.1538e6, 7.6923e5])\n"
   ]
  },
  {
   "cell_type": "code",
   "execution_count": 48,
   "metadata": {},
   "outputs": [],
   "source": [
    "# Load increments [Start, End, Increment, InitialFactor, FinalFactor]\n",
    "TIMS = np.array([[0, 0.5, 0.1, 0, 0.5],\n",
    "                 [0.5, 1.0, 0.1, 0.5, 1]])"
   ]
  },
  {
   "cell_type": "code",
   "execution_count": 49,
   "metadata": {},
   "outputs": [],
   "source": [
    "# Set program parameter\n",
    "ITRA = 30\n",
    "ATOL = 1e5\n",
    "NTOL = 6\n",
    "TOL = 1E-6"
   ]
  },
  {
   "cell_type": "code",
   "execution_count": 51,
   "metadata": {},
   "outputs": [
    {
     "name": "stdout",
     "output_type": "stream",
     "text": [
      " *** Nonlinear FEA begins *** \n",
      "Material properties Initialized.\n",
      "Element volumes checked.\n",
      "Time,    Time Step,    Iter,   Residual\n",
      "0.1, 0.1, 2, 4.547473508864641e-13\n",
      "Time,    Time Step,    Iter,   Residual\n",
      "0.2, 0.1, 2, 6.821210263296962e-13\n",
      "Time,    Time Step,    Iter,   Residual\n",
      "0.30000000000000004, 0.1, 2, 7.591198308465199e-13\n",
      "Time,    Time Step,    Iter,   Residual\n",
      "0.4, 0.1, 2, 9.094947017729282e-13\n",
      "Time,    Time Step,    Iter,   Residual\n",
      "0.5, 0.1, 2, 9.094947017729282e-13\n",
      "Time,    Time Step,    Iter,   Residual\n",
      "0.6, 0.1, 2, 1.8189894035458565e-12\n",
      "Time,    Time Step,    Iter,   Residual\n",
      "0.7, 0.1, 2, 3.637978807091713e-12\n",
      "Time,    Time Step,    Iter,   Residual\n",
      "0.7999999999999999, 0.1, 2, 3.637978807091713e-12\n",
      "Time,    Time Step,    Iter,   Residual\n",
      "0.8999999999999999, 0.1, 2, 3.637978807091713e-12\n",
      "Time,    Time Step,    Iter,   Residual\n",
      "0.9999999999999999, 0.1, 2, 3.637978807091713e-12\n",
      "Dispacement:\n",
      "[ 0.00000000e+00  0.00000000e+00  0.00000000e+00 -5.99993400e-03\n",
      "  0.00000000e+00  0.00000000e+00 -5.99993400e-03 -5.99993400e-03\n",
      "  0.00000000e+00  0.00000000e+00 -5.99993400e-03  0.00000000e+00\n",
      "  4.00893235e-18  2.06247424e-18  2.00000920e-02 -5.99993400e-03\n",
      "  1.58737690e-18  2.00000920e-02 -5.99993400e-03 -5.99993400e-03\n",
      "  2.00000920e-02  9.91057513e-19 -5.99993400e-03  2.00000920e-02]\n",
      " *** Successful end of program *** \n"
     ]
    }
   ],
   "source": [
    "# Call main function\n",
    "NOUT = \"output.out\"\n",
    "out = nlfea(ITRA, TOL, ATOL, NTOL, TIMS, NOUT, MID, PROP, EXTFORCE, SDISPT, XYZ, LE)"
   ]
  },
  {
   "cell_type": "code",
   "execution_count": null,
   "metadata": {},
   "outputs": [],
   "source": []
  }
 ],
 "metadata": {
  "kernelspec": {
   "display_name": "Python 3",
   "language": "python",
   "name": "python3"
  },
  "language_info": {
   "codemirror_mode": {
    "name": "ipython",
    "version": 3
   },
   "file_extension": ".py",
   "mimetype": "text/x-python",
   "name": "python",
   "nbconvert_exporter": "python",
   "pygments_lexer": "ipython3",
   "version": "3.8.10"
  },
  "orig_nbformat": 4,
  "vscode": {
   "interpreter": {
    "hash": "e7370f93d1d0cde622a1f8e1c04877d8463912d04d973331ad4851f04de6915a"
   }
  }
 },
 "nbformat": 4,
 "nbformat_minor": 2
}
