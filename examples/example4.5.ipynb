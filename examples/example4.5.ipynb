{
 "cells": [
  {
   "attachments": {},
   "cell_type": "markdown",
   "metadata": {},
   "source": [
    "# Example 4.5 Two elastoplastic bars in parallel\n",
    "\n",
    "Example 4.4 (Two Bars in Parallel) An assembly of two bars with different\n",
    "material and section properties is subjected to an axial load as shown in Fig. 4.8.\n",
    "The initial length of the two bars is 100. Determine axial displacement, stresses, and\n",
    "strains when P = 15 is applied at the tip. Assume that the elongations of both bars\n",
    "are the same. Assume the following properties for the bars:\n",
    "- Bar 1: A = 0.75, E = 10000, Et = 1000, $^0\\sigma_Y$ = 5, kinematic hardening\n",
    "- Bar 2: A = 1.25, E = 5000, Et = 500, $^0\\sigma_Y$ = 7.5, isotropic hardening\n"
   ]
  },
  {
   "cell_type": "code",
   "execution_count": 6,
   "metadata": {},
   "outputs": [
    {
     "name": "stdout",
     "output_type": "stream",
     "text": [
      " iter: 0, u: 0, S1: 0, S2 : 0, A1: 0, A2: 0, ep1: 0, ep2: 0, Residual: 15.0\n",
      " iter: 1, u: 0.1091, Stress S1: 5.5909, Stress S2 : 5.4545, Back stress A1: 0.5909, Back stressA2: 0.0000, Plastic strain ep1: 0.0005, Plastic Strain ep2: 0.0000, Residual: 3.988636\n",
      " iter: 2, u: 0.1661, Stress S1: 6.1607, Stress S2 : 7.5804, Back stress A1: 1.1607, Back stressA2: 0.0000, Plastic strain ep1: 0.0010, Plastic Strain ep2: 0.0001, Residual: 0.904018\n",
      " iter: 3, u: 0.2318, Stress S1: 6.8182, Stress S2 : 7.9091, Back stress A1: 1.8182, Back stressA2: 0.0000, Plastic strain ep1: 0.0016, Plastic Strain ep2: 0.0007, Residual: 0.000000\n"
     ]
    }
   ],
   "source": [
    "import numpy as np\n",
    "from combHard1D import combHard1D\n",
    "\n",
    "E1 = 10000\n",
    "Et1 = 1000\n",
    "sYield1 = 5\n",
    "E2 = 5000\n",
    "Et2 = 500\n",
    "sYield2 = 7.5\n",
    "\n",
    "mp1 = [E1, 1, E1*Et1/(E1-Et1), sYield1]\n",
    "mp2 = [E2, 0, E2*Et2/(E2-Et2), sYield2]\n",
    "\n",
    "# Intial stress, back stress, and plastic strain\n",
    "nS1 = 0; nA1 = 0; nep1 = 0\n",
    "nS2 = 0; nA2 = 0; nep2 = 0\n",
    "\n",
    "# Dimension\n",
    "A1 = 0.75; L1 = 100\n",
    "A2 = 1.25; L2 = 100\n",
    "\n",
    "tol = 1e-5; u = 0; P = 15; iter = 0\n",
    "\n",
    "Res = P - (nS1*A1 + nS2*A2)\n",
    "\n",
    "# Modulus\n",
    "Dep1 = E1; Dep2 = E2\n",
    "\n",
    "conv = Res**2/(1+P**2)\n",
    "\n",
    "print(rf\" iter: {iter}, u: {u}, S1: {nS1}, S2 : {nS2}, A1: {nA1}, A2: {nA2}, ep1: {nep1}, ep2: {nep2}, Residual: {Res}\")\n",
    "\n",
    "while (conv > tol) and (iter < 20):\n",
    "    #displacement increment\n",
    "    delu = Res / (Dep1*A1/L1 + Dep2*A2/L2) \n",
    "    \n",
    "    # Update displacement\n",
    "    u = u + delu\n",
    "    \n",
    "    # Strain increment\n",
    "    delE = delu/L1\n",
    "    \n",
    "    # For obtained strain increment, compute new stress , back stress and plastic strain\n",
    "    Snew1, Anew1, epnew1 = combHard1D(mp1, delE, nS1, nA1, nep1)\n",
    "    Snew2, Anew2, epnew2 = combHard1D(mp2, delE, nS2, nA2, nep2)\n",
    "    \n",
    "    # Compute new residual\n",
    "    Res = P - Snew1*A1 - Snew2*A2\n",
    "    conv = Res**2/(1+P**2)\n",
    "    \n",
    "    # Update parameters\n",
    "    iter += 1\n",
    "    \n",
    "    # The Modulus is E if elastic. If the plastic strain has increased, it means the material has transitioned to pastic loading. Use Et    \n",
    "    Dep1, Dep2 = E1, E2\n",
    "    if epnew1 > nep1: Dep1 = Et1\n",
    "    if epnew2 > nep2: Dep2 = Et2\n",
    "    \n",
    "    nS1, nA1, nep1 = Snew1, Anew1, epnew1\n",
    "    nS2, nA2, nep2 = Snew2, Anew2, epnew2\n",
    "    \n",
    "    print(rf\" iter: {iter:d}, u: {u:0.4f}, Stress S1: {nS1:0.4f}, Stress S2 : {nS2:0.4f}, Back stress A1: {nA1:0.4f}, Back stressA2: {nA2:0.4f}, Plastic strain ep1: {nep1:0.4f}, Plastic Strain ep2: {nep2:0.4f}, Residual: {Res:0.6f}\")\n",
    "    \n",
    "    \n",
    "\n",
    "\n",
    "\n"
   ]
  },
  {
   "cell_type": "code",
   "execution_count": null,
   "metadata": {},
   "outputs": [],
   "source": []
  }
 ],
 "metadata": {
  "kernelspec": {
   "display_name": "Python 3",
   "language": "python",
   "name": "python3"
  },
  "language_info": {
   "codemirror_mode": {
    "name": "ipython",
    "version": 3
   },
   "file_extension": ".py",
   "mimetype": "text/x-python",
   "name": "python",
   "nbconvert_exporter": "python",
   "pygments_lexer": "ipython3",
   "version": "3.8.10"
  },
  "orig_nbformat": 4,
  "vscode": {
   "interpreter": {
    "hash": "e7370f93d1d0cde622a1f8e1c04877d8463912d04d973331ad4851f04de6915a"
   }
  }
 },
 "nbformat": 4,
 "nbformat_minor": 2
}
